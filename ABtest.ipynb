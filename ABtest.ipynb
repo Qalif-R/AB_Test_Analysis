{
 "cells": [
  {
   "cell_type": "markdown",
   "id": "de750bea-d6b4-435d-ae99-6168c1ae4c08",
   "metadata": {
    "tags": []
   },
   "source": [
    "# Analysing the Impact of Altering Paywall Headline on Subsription Rate\n",
    "\n",
    "An A/B Test is a randomized experiment in which a two or more variants a variable are deployed to different segments of customers to determine which of the variant is most effective in boosting KPIs. Here are some scenarios where AB testing is used:  \n",
    "\n",
    " - Streaming services: Determining whether changing the movie recommendation algorithm increases user engagement\n",
    " - E-commerce: Determining which product page layout results in the highest proportion of checkouts\n",
    " - Product & Service Advertising: Determining if the usage of emojis in Advertisment headlines result in higher click rates\n",
    "\n",
    "For this case, we will be analysing the A/B test results data of an online learning platform called MindMapers. MindMappers operates on a freemium model, some of its courses are free, but the advanced courses are locked behind a paywall. MindMappers provides a 2 week trial for its advanced courses. At the end of the trial period, users are directed to a paywall. Two paywall variants with differing headlines were compared in this A/B test. Below is an illustration of the control and test:"
   ]
  },
  {
   "cell_type": "markdown",
   "id": "0f33c28e-3ca1-45a6-a6e9-da44a583dc0e",
   "metadata": {},
   "source": [
    "![](https://github.com/Qalif-R/AB_Test_Analysis/blob/main/ABill.png?raw=true)"
   ]
  },
  {
   "cell_type": "code",
   "execution_count": 1,
   "id": "14b52ebc-4cb7-4642-a135-360de0b01421",
   "metadata": {},
   "outputs": [
    {
     "data": {
      "text/html": [
       "<div>\n",
       "<style scoped>\n",
       "    .dataframe tbody tr th:only-of-type {\n",
       "        vertical-align: middle;\n",
       "    }\n",
       "\n",
       "    .dataframe tbody tr th {\n",
       "        vertical-align: top;\n",
       "    }\n",
       "\n",
       "    .dataframe thead th {\n",
       "        text-align: right;\n",
       "    }\n",
       "</style>\n",
       "<table border=\"1\" class=\"dataframe\">\n",
       "  <thead>\n",
       "    <tr style=\"text-align: right;\">\n",
       "      <th></th>\n",
       "      <th>uid</th>\n",
       "      <th>country</th>\n",
       "      <th>gender</th>\n",
       "      <th>group</th>\n",
       "      <th>device</th>\n",
       "      <th>subscribed</th>\n",
       "    </tr>\n",
       "  </thead>\n",
       "  <tbody>\n",
       "    <tr>\n",
       "      <th>0</th>\n",
       "      <td>72629692</td>\n",
       "      <td>FRA</td>\n",
       "      <td>F</td>\n",
       "      <td>control</td>\n",
       "      <td>android</td>\n",
       "      <td>Yes</td>\n",
       "    </tr>\n",
       "    <tr>\n",
       "      <th>1</th>\n",
       "      <td>25633647</td>\n",
       "      <td>GBR</td>\n",
       "      <td>F</td>\n",
       "      <td>control</td>\n",
       "      <td>android</td>\n",
       "      <td>No</td>\n",
       "    </tr>\n",
       "    <tr>\n",
       "      <th>2</th>\n",
       "      <td>31206551</td>\n",
       "      <td>BRA</td>\n",
       "      <td>M</td>\n",
       "      <td>test</td>\n",
       "      <td>ios</td>\n",
       "      <td>No</td>\n",
       "    </tr>\n",
       "    <tr>\n",
       "      <th>3</th>\n",
       "      <td>87162368</td>\n",
       "      <td>USA</td>\n",
       "      <td>M</td>\n",
       "      <td>control</td>\n",
       "      <td>android</td>\n",
       "      <td>Yes</td>\n",
       "    </tr>\n",
       "    <tr>\n",
       "      <th>4</th>\n",
       "      <td>88562222</td>\n",
       "      <td>USA</td>\n",
       "      <td>M</td>\n",
       "      <td>test</td>\n",
       "      <td>android</td>\n",
       "      <td>No</td>\n",
       "    </tr>\n",
       "    <tr>\n",
       "      <th>5</th>\n",
       "      <td>90074796</td>\n",
       "      <td>USA</td>\n",
       "      <td>F</td>\n",
       "      <td>test</td>\n",
       "      <td>ios</td>\n",
       "      <td>No</td>\n",
       "    </tr>\n",
       "    <tr>\n",
       "      <th>6</th>\n",
       "      <td>13863366</td>\n",
       "      <td>FRA</td>\n",
       "      <td>F</td>\n",
       "      <td>test</td>\n",
       "      <td>ios</td>\n",
       "      <td>No</td>\n",
       "    </tr>\n",
       "    <tr>\n",
       "      <th>7</th>\n",
       "      <td>26390385</td>\n",
       "      <td>USA</td>\n",
       "      <td>F</td>\n",
       "      <td>control</td>\n",
       "      <td>android</td>\n",
       "      <td>Yes</td>\n",
       "    </tr>\n",
       "    <tr>\n",
       "      <th>8</th>\n",
       "      <td>49549715</td>\n",
       "      <td>BRA</td>\n",
       "      <td>M</td>\n",
       "      <td>control</td>\n",
       "      <td>ios</td>\n",
       "      <td>No</td>\n",
       "    </tr>\n",
       "    <tr>\n",
       "      <th>9</th>\n",
       "      <td>96945880</td>\n",
       "      <td>BRA</td>\n",
       "      <td>M</td>\n",
       "      <td>test</td>\n",
       "      <td>ios</td>\n",
       "      <td>Yes</td>\n",
       "    </tr>\n",
       "  </tbody>\n",
       "</table>\n",
       "</div>"
      ],
      "text/plain": [
       "        uid country gender    group   device subscribed\n",
       "0  72629692     FRA      F  control  android        Yes\n",
       "1  25633647     GBR      F  control  android         No\n",
       "2  31206551     BRA      M     test      ios         No\n",
       "3  87162368     USA      M  control  android        Yes\n",
       "4  88562222     USA      M     test  android         No\n",
       "5  90074796     USA      F     test      ios         No\n",
       "6  13863366     FRA      F     test      ios         No\n",
       "7  26390385     USA      F  control  android        Yes\n",
       "8  49549715     BRA      M  control      ios         No\n",
       "9  96945880     BRA      M     test      ios        Yes"
      ]
     },
     "execution_count": 1,
     "metadata": {},
     "output_type": "execute_result"
    }
   ],
   "source": [
    "#Loading the AB test results data\n",
    "import pandas as pd\n",
    "url = 'https://raw.githubusercontent.com/Qalif-R/AB_Test_Analysis/main/ab_testing_results.csv'\n",
    "ab_results = pd.read_csv(url)\n",
    "ab_results.head(10)"
   ]
  },
  {
   "cell_type": "markdown",
   "id": "b1ed3dd9-7ae2-412a-a04a-8b173de86a8f",
   "metadata": {},
   "source": [
    "Before we can analyse the results, we need to ensure that the A/B test was was deployed correctly. Randomness is key for the test to yield optimal results. Hence, the distribution of the **country,gender and device** features within the control and test groups should be  approximately equal to one another. This is to eliminate the possibility of a confounding variable impacting our results.\n",
    "Also, the sample size for both groups would ideally be  large (>30) and roughly the same. Any violation of these criteria is considered to be sub-optimal practices which could lead to misleading test results. "
   ]
  },
  {
   "cell_type": "code",
   "execution_count": 2,
   "id": "92ea50ef-dbb5-4d1a-94cf-dcf620be5c25",
   "metadata": {},
   "outputs": [
    {
     "name": "stdout",
     "output_type": "stream",
     "text": [
      "group     control      test\n",
      "country                    \n",
      "AUS      0.021991  0.022340\n",
      "BRA      0.196358  0.196336\n",
      "CAN      0.030336  0.035630\n",
      "DEU      0.082142  0.078954\n",
      "ESP      0.042157  0.042144\n",
      "FRA      0.062280  0.061598\n",
      "GBR      0.060237  0.062210\n",
      "MEX      0.125429  0.115502\n",
      "TUR      0.078013  0.076156\n",
      "USA      0.301056  0.309128\n"
     ]
    }
   ],
   "source": [
    "# Check the distribution of country for control and test groups\n",
    "print(pd.crosstab(ab_results.country, ab_results.group, normalize='columns'))"
   ]
  },
  {
   "cell_type": "code",
   "execution_count": 3,
   "id": "ad2ade04-503e-4620-9e8f-b9419109c473",
   "metadata": {},
   "outputs": [
    {
     "data": {
      "text/plain": [
       "group    gender  device \n",
       "control  M       android    0.255161\n",
       "                 ios        0.250641\n",
       "         F       ios        0.250120\n",
       "                 android    0.244078\n",
       "test     F       android    0.251814\n",
       "         M       ios        0.251071\n",
       "                 android    0.250721\n",
       "         F       ios        0.246393\n",
       "dtype: float64"
      ]
     },
     "execution_count": 3,
     "metadata": {},
     "output_type": "execute_result"
    }
   ],
   "source": [
    "# Check the distribution of gender and device for control and test groups\n",
    "ab_results.groupby('group')[['gender','device']].value_counts(normalize=True)"
   ]
  },
  {
   "cell_type": "code",
   "execution_count": 4,
   "id": "730031a4-69a4-4068-a945-66a34e70a66f",
   "metadata": {},
   "outputs": [
    {
     "name": "stdout",
     "output_type": "stream",
     "text": [
      "No.of customers in total sample: 45883\n"
     ]
    },
    {
     "data": {
      "text/plain": [
       "control    23009\n",
       "test       22874\n",
       "Name: group, dtype: int64"
      ]
     },
     "execution_count": 4,
     "metadata": {},
     "output_type": "execute_result"
    }
   ],
   "source": [
    "print('No.of customers in total sample: ' + str(ab_results['uid'].nunique()))\n",
    "# check sample size of control and test groups\n",
    "ab_results['group'].value_counts()"
   ]
  },
  {
   "cell_type": "markdown",
   "id": "6d39cbf5-ff53-4fa2-a42c-8ff6f8b8e43f",
   "metadata": {},
   "source": [
    "We can observe that the distribution of country, gender and device in both control and test along with the sample size of two groups\n",
    "adhere to optimal A/B testing deployment.\n",
    "\n",
    "We will now perform hypothesis test to draw a conclusion from the A/B test conducted."
   ]
  },
  {
   "cell_type": "markdown",
   "id": "afadaa11-b826-4d1c-a014-94c826d9a02e",
   "metadata": {
    "tags": []
   },
   "source": [
    "## Hypothesis Test - Two Sample proportion test\n",
    "Managment of MindMappers only considers the test paywall to be worth implementing if its subscription rate is 3% greater than that of the control group. Thus, the null and alternative hypotheses for our hypothesis test is as follows:\n",
    "\n",
    "$\\Large H_{0}: \\quad p_t - p_c = 3\\%$\\\n",
    "$\\Large H_{1}: \\quad p_t - p_c > 3\\%$\n",
    "\n",
    "where $p_t$ and $p_c$ are the subscription rates for the test and control group respectively. This is a one-sided two sample proportion test as we are testing if $p_t - p_c$ is **greater** than $3%$. We will be conducting this test at the **5% significance level**. We will assume that $H_0$ is true to conduct the test"
   ]
  },
  {
   "cell_type": "markdown",
   "id": "22565cf5-51d3-4ab1-a60a-793b9dd6b6da",
   "metadata": {},
   "source": [
    "### Calculating the Test Statistic\n",
    "The test statistic, z can be calculated as follows:\n",
    "\n",
    "$\\Large z = \\frac{(\\hat{p}_t - \\hat{p}_c) - 0.03}{SE(\\hat{p}_t - \\hat{p}_c)}$\n",
    "\n",
    "\n",
    "\n",
    "$\\large SE(\\hat{p}_t - \\hat{p}_c)$ is the standard error of $(\\hat{p}_t - \\hat{p}_c)$ where\n",
    "\n",
    "$\\large SE(\\hat{p}_t - \\hat{p}_c) = \\sqrt{\\frac{\\hat{p}(1-\\hat{p})}{n_t} + \\frac{\\hat{p}(1-\\hat{p})}{n_c}}$\n",
    "\n",
    " - $\\hat{p}_t$ and $\\hat{p}_c$ are the sample subscription rates of the test and control groups respectively.\n",
    " - $\\hat{p}$ is the weighted mean of $\\hat{p}_t$ and $\\hat{p}_c$\n",
    " - $n_t$ and $n_c$ are the sample sizes of the test and control groups respectively."
   ]
  },
  {
   "cell_type": "code",
   "execution_count": 6,
   "id": "0da00fe4-0bd4-418c-9f07-060605bc4d36",
   "metadata": {},
   "outputs": [
    {
     "name": "stdout",
     "output_type": "stream",
     "text": [
      "0.04007702404356617\n"
     ]
    }
   ],
   "source": [
    "#Set significance level\n",
    "alpha = 0.05\n",
    "\n",
    "#Get the sample proportions and sample sizes\n",
    "p_hat_samples = ab_results.groupby('group')['subscribed'].value_counts(normalize = True)\n",
    "n = ab_results['group'].value_counts()\n",
    "\n",
    "\n",
    "p_hat_t = p_hat_samples[('test','Yes')]\n",
    "p_hat_c = p_hat_samples[('control','Yes')]\n",
    "\n",
    "n_t = n['test']\n",
    "n_c = n['control']\n",
    "\n",
    "#Calculate difference of sample proportions\n",
    "print(p_hat_t - p_hat_c)"
   ]
  },
  {
   "cell_type": "markdown",
   "id": "b278926f-cbd7-45e7-96f6-7ddbd965de68",
   "metadata": {},
   "source": [
    "So the subscription rate of the test sample is 4% higher than that of the control sample. We need to determine if this is statistically significant."
   ]
  },
  {
   "cell_type": "code",
   "execution_count": 7,
   "id": "8b647bc7-f7d7-4427-b373-4aec358ff052",
   "metadata": {},
   "outputs": [
    {
     "name": "stdout",
     "output_type": "stream",
     "text": [
      "2.158522748076968\n"
     ]
    }
   ],
   "source": [
    "import numpy as np\n",
    "#Calculate weighted mean of sample proportions\n",
    "p_hat = ((n_t * p_hat_t) + (n_c * p_hat_c))/(n_t + n_c)\n",
    "\n",
    "#Calculate standard error of difference in sample proportions\n",
    "se = np.sqrt((p_hat * (1-p_hat)) / n_t +\n",
    "             (p_hat * (1-p_hat)) / n_c)\n",
    "             \n",
    "z_score = (p_hat_t - p_hat_c - 0.03)/se\n",
    "print(z_score)"
   ]
  },
  {
   "cell_type": "markdown",
   "id": "8e18f7e4-41c4-4a96-90b4-b39149d17c7b",
   "metadata": {},
   "source": [
    "Now that we have caculated the test statistic, we can proceed to calculate the p-value. The p-value is defined as the probabilty of obtaining a result which is equal to or more extreme than the result observed, assuming the null hypothesis is true.\n",
    " - p_value > alpha indicates that there is evidence supporting $H_0$\n",
    " - p_value <= alpha indicates that there is evidence against $H_0$"
   ]
  },
  {
   "cell_type": "code",
   "execution_count": 8,
   "id": "929e1af5-97ee-415d-823b-9a85c983763a",
   "metadata": {},
   "outputs": [
    {
     "name": "stdout",
     "output_type": "stream",
     "text": [
      "p_value is: 0.015\n",
      "alpha is: 0.05\n"
     ]
    }
   ],
   "source": [
    "from scipy.stats import norm\n",
    "#Calculate p-value\n",
    "p_value = 1 - norm.cdf(z_score)\n",
    "\n",
    "print('p_value is: ' + str(round(p_value,3)))\n",
    "print('alpha is: ' + str(alpha))"
   ]
  },
  {
   "cell_type": "code",
   "execution_count": 9,
   "id": "6a313845-3289-478b-866c-67233a2b4702",
   "metadata": {},
   "outputs": [
    {
     "data": {
      "text/plain": [
       "True"
      ]
     },
     "execution_count": 9,
     "metadata": {},
     "output_type": "execute_result"
    }
   ],
   "source": [
    "p_value <= alpha"
   ]
  },
  {
   "cell_type": "markdown",
   "id": "ea4d9432-4e81-416a-b9ae-947eab306f6e",
   "metadata": {},
   "source": [
    "Since the p_value is less than the significance level, there is evidence aganist the null hypothesis. We reject the null hypothesis.\n",
    "**There is evidence at the 5% significance level that the subscription rate of the test group is 3% more than that of the control group.**\n",
    "Hence MindMappers should go ahead and implement the proposed paywall headline! Moreover, we can calculate a 95% confidence interval for the difference in subscription rates as follows:"
   ]
  },
  {
   "cell_type": "markdown",
   "id": "c6ba75fe-0a63-4413-803d-47ba71284b4f",
   "metadata": {},
   "source": [
    "$ \\Large (\\hat{p}_t - \\hat{p}_c) \\pm [z_{\\alpha/2} * SE(\\hat{p}_t - \\hat{p}_c)] $"
   ]
  },
  {
   "cell_type": "code",
   "execution_count": 30,
   "id": "dc8ee794-73f2-4def-aa1b-d156c8a3bead",
   "metadata": {},
   "outputs": [
    {
     "name": "stdout",
     "output_type": "stream",
     "text": [
      "[0.030926967962698025, 0.04922708012443431]\n"
     ]
    }
   ],
   "source": [
    "conf_int_95 = [(p_hat_t - p_hat_c) - (norm.ppf(1-0.025)*se), (p_hat_t - p_hat_c) + (norm.ppf(1-0.025)*se)]  \n",
    "print(conf_int_95)"
   ]
  },
  {
   "cell_type": "markdown",
   "id": "bee7d42e-3d9a-4ef1-b31a-cf4918fefc6f",
   "metadata": {},
   "source": [
    "Hence there is a 95% chance that this interval encompasses the true increase in subscription rate when switching to the proposed paywall headline."
   ]
  }
 ],
 "metadata": {
  "kernelspec": {
   "display_name": "Python 3 (ipykernel)",
   "language": "python",
   "name": "python3"
  },
  "language_info": {
   "codemirror_mode": {
    "name": "ipython",
    "version": 3
   },
   "file_extension": ".py",
   "mimetype": "text/x-python",
   "name": "python",
   "nbconvert_exporter": "python",
   "pygments_lexer": "ipython3",
   "version": "3.9.12"
  }
 },
 "nbformat": 4,
 "nbformat_minor": 5
}
